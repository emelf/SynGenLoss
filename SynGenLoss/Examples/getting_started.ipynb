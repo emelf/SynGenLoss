{
 "cells": [
  {
   "cell_type": "code",
   "execution_count": 2,
   "metadata": {},
   "outputs": [],
   "source": [
    "from SynGenLoss import Model1DataClass, SaturationModel_v1, GeneratorLossModel\n",
    "\n",
    "# The Model1DataClass is a data class that stores generator parameters and nominal losses used for loss calculations.\n",
    "# The class must be defined in two steps: \n",
    "# 1) Define the standard parameters and other relevant information given from the docstring. \n",
    "# 2) Define the nominal losses, and the voltage and currents used to achieve given losses. Can be found in the generator test data sheet, or estimated. \n",
    "model_data = Model1DataClass() \n",
    "model_data.standard_params(Sn_mva=103, V_nom_kV=11.0, cos_phi=0.9, If_nom_A=525.15, Ra=0.00182, Xd=1.059, Xq=0.676, Xp=0.141)\n",
    "model_data.nominal_losses(V_nom=1.0, Ia_nom=5406.1, If_nom=1065, P_an_kW=186.46, P_sn_kW=89.16, P_fn_kW=173.65, P_brn_kW=2.13, P_exn_kW=15.88, \n",
    "                          P_cn_kW=211.92, P_wfn_kW=172.92, P_bn_kW=240.90)\n",
    "\n",
    "# The saturation model parameters bv, k, Cm, and m must be defined from the data of a no-load field current test. \n",
    "# One the parameters are defined, the saturation model can be instantiated.\n",
    "sat_model = SaturationModel_v1(bv=1.0, k=1.0308, Cm=0.160, m=7)\n",
    "\n",
    "#The generator object can now be made using the model data and saturation model. \n",
    "G1 = GeneratorLossModel(model_data, sat_model) "
   ]
  },
  {
   "cell_type": "code",
   "execution_count": 5,
   "metadata": {},
   "outputs": [
    {
     "name": "stdout",
     "output_type": "stream",
     "text": [
      "Ia = 1.00 pu, If = 2.03 pu, delta = 0.44 rad\n"
     ]
    }
   ],
   "source": [
    "P = 0.9 # pu quantity\n",
    "Q = 0.436 # pu quantity\n",
    "V = 1.0 # pu quantity\n",
    "Ia, If, delta = G1.calc_currents(P, Q, 1.0) #Returns the armature current, field current, and rotor angle, pu, pu, and radians respectively. \n",
    "\n",
    "print(f\"Ia = {Ia:.2f} pu, If = {If:.2f} pu, delta = {delta:.2f} rad\")"
   ]
  },
  {
   "cell_type": "code",
   "execution_count": 8,
   "metadata": {},
   "outputs": [
    {
     "name": "stdout",
     "output_type": "stream",
     "text": [
      "Efficiency: 98.835%, Stator losses: 275.65 kW, Rotor losses: 191.66 kW, Constant losses: 625.74 kW\n"
     ]
    }
   ],
   "source": [
    "#One can also calculate the losses using the generator object. \n",
    "eff, P_stator, P_rotor, P_const = G1.calc_losses_pu(P, Q, 1.0) #Returns the efficiency, stator losses, rotor losses, and constant losses, %/100, pu, pu, pu respectively.\n",
    "\n",
    "print(f\"Efficiency: {eff*100:.3f}%, Stator losses: {P_stator*103000:.2f} kW, Rotor losses: {P_rotor*103000:.2f} kW, Constant losses: {P_const*103000:.2f} kW\")"
   ]
  }
 ],
 "metadata": {
  "kernelspec": {
   "display_name": "Python 3.10.4 ('SynGenLoss_env')",
   "language": "python",
   "name": "python3"
  },
  "language_info": {
   "codemirror_mode": {
    "name": "ipython",
    "version": 3
   },
   "file_extension": ".py",
   "mimetype": "text/x-python",
   "name": "python",
   "nbconvert_exporter": "python",
   "pygments_lexer": "ipython3",
   "version": "3.8.13"
  },
  "orig_nbformat": 4,
  "vscode": {
   "interpreter": {
    "hash": "8d6d588626305047538e5653b6b4aede3738e81e074e2767c35c87c1b6593421"
   }
  }
 },
 "nbformat": 4,
 "nbformat_minor": 2
}
