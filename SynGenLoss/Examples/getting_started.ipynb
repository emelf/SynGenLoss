{
 "cells": [
  {
   "cell_type": "code",
   "execution_count": 1,
   "metadata": {},
   "outputs": [
    {
     "ename": "ModuleNotFoundError",
     "evalue": "No module named 'SynGenLoss'",
     "output_type": "error",
     "traceback": [
      "\u001b[1;31m---------------------------------------------------------------------------\u001b[0m",
      "\u001b[1;31mModuleNotFoundError\u001b[0m                       Traceback (most recent call last)",
      "\u001b[1;32mc:\\Users\\emelf\\OneDrive - USN\\PhD - SysOpt\\Python Work\\Custom Modules\\SynGenLoss\\Examples\\getting_started.ipynb Cell 1\u001b[0m in \u001b[0;36m<cell line: 1>\u001b[1;34m()\u001b[0m\n\u001b[1;32m----> <a href='vscode-notebook-cell:/c%3A/Users/emelf/OneDrive%20-%20USN/PhD%20-%20SysOpt/Python%20Work/Custom%20Modules/SynGenLoss/Examples/getting_started.ipynb#ch0000000?line=0'>1</a>\u001b[0m \u001b[39mfrom\u001b[39;00m \u001b[39mSynGenLoss\u001b[39;00m \u001b[39mimport\u001b[39;00m Model1DataClass, SaturationModel_v1, GeneratorLossModel\n\u001b[0;32m      <a href='vscode-notebook-cell:/c%3A/Users/emelf/OneDrive%20-%20USN/PhD%20-%20SysOpt/Python%20Work/Custom%20Modules/SynGenLoss/Examples/getting_started.ipynb#ch0000000?line=2'>3</a>\u001b[0m \u001b[39m# The Model1DataClass is a data class that stores generator parameters and nominal losses used for loss calculations.\u001b[39;00m\n\u001b[0;32m      <a href='vscode-notebook-cell:/c%3A/Users/emelf/OneDrive%20-%20USN/PhD%20-%20SysOpt/Python%20Work/Custom%20Modules/SynGenLoss/Examples/getting_started.ipynb#ch0000000?line=3'>4</a>\u001b[0m \u001b[39m# The class must be defined in two steps: \u001b[39;00m\n\u001b[0;32m      <a href='vscode-notebook-cell:/c%3A/Users/emelf/OneDrive%20-%20USN/PhD%20-%20SysOpt/Python%20Work/Custom%20Modules/SynGenLoss/Examples/getting_started.ipynb#ch0000000?line=4'>5</a>\u001b[0m \u001b[39m# 1) Define the standard parameters and other relevant information given from the docstring. \u001b[39;00m\n\u001b[0;32m      <a href='vscode-notebook-cell:/c%3A/Users/emelf/OneDrive%20-%20USN/PhD%20-%20SysOpt/Python%20Work/Custom%20Modules/SynGenLoss/Examples/getting_started.ipynb#ch0000000?line=5'>6</a>\u001b[0m \u001b[39m# 2) Define the nominal losses, and the voltage and currents used to achieve given losses. Can be found in the generator test data sheet, or estimated. \u001b[39;00m\n\u001b[0;32m      <a href='vscode-notebook-cell:/c%3A/Users/emelf/OneDrive%20-%20USN/PhD%20-%20SysOpt/Python%20Work/Custom%20Modules/SynGenLoss/Examples/getting_started.ipynb#ch0000000?line=6'>7</a>\u001b[0m model_data \u001b[39m=\u001b[39m Model1DataClass() \n",
      "\u001b[1;31mModuleNotFoundError\u001b[0m: No module named 'SynGenLoss'"
     ]
    }
   ],
   "source": [
    "from SynGenLoss import Model1DataClass, SaturationModel_v1, GeneratorLossModel\n",
    "\n",
    "# The Model1DataClass is a data class that stores generator parameters and nominal losses used for loss calculations.\n",
    "# The class must be defined in two steps: \n",
    "# 1) Define the standard parameters and other relevant information given from the docstring. \n",
    "# 2) Define the nominal losses, and the voltage and currents used to achieve given losses. Can be found in the generator test data sheet, or estimated. \n",
    "model_data = Model1DataClass() \n",
    "model_data.standard_params(Sn_mva=103, V_nom_kV=11.0, cos_phi=0.9, If_nom_A=525.15, Ra=0.00182, Xd=1.059, Xq=0.676, Xp=0.141)\n",
    "model_data.nominal_losses(V_nom=1.0, Ia_nom=5406.1, If_nom=1065, P_an_kW=186.46, P_sn_kW=89.16, P_fn_kW=173.65, P_brn_kW=2.13, P_exn_kW=15.88, \n",
    "                          P_cn_kW=211.92, P_wfn_kW=172.92, P_bn_kW=240.90)\n",
    "\n",
    "# The saturation model parameters bv, k, Cm, and m must be defined from the data of a no-load field current test. \n",
    "# One the parameters are defined, the saturation model can be instantiated.\n",
    "sat_model = SaturationModel_v1(bv=1.0, k=1.0308, Cm=0.160, m=7)"
   ]
  },
  {
   "cell_type": "code",
   "execution_count": 3,
   "metadata": {},
   "outputs": [
    {
     "data": {
      "text/plain": [
       "5406.097975139223"
      ]
     },
     "execution_count": 3,
     "metadata": {},
     "output_type": "execute_result"
    }
   ],
   "source": [
    "import numpy as np\n",
    "Sn = 103 \n",
    "V = 11 \n",
    "cos_phi = 0.9 \n",
    "\n",
    "Sn*1e6/(np.sqrt(3)*V*1e3)"
   ]
  }
 ],
 "metadata": {
  "kernelspec": {
   "display_name": "Python 3.8.8 ('base')",
   "language": "python",
   "name": "python3"
  },
  "language_info": {
   "codemirror_mode": {
    "name": "ipython",
    "version": 3
   },
   "file_extension": ".py",
   "mimetype": "text/x-python",
   "name": "python",
   "nbconvert_exporter": "python",
   "pygments_lexer": "ipython3",
   "version": "3.8.8"
  },
  "orig_nbformat": 4,
  "vscode": {
   "interpreter": {
    "hash": "f58ff98765a12baaf9db7af8ec90982f17696552882317702c605e1548c26a37"
   }
  }
 },
 "nbformat": 4,
 "nbformat_minor": 2
}
