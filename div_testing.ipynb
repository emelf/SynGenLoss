{
 "cells": [
  {
   "cell_type": "code",
   "execution_count": 97,
   "metadata": {},
   "outputs": [],
   "source": [
    "import numpy as np\n",
    "import matplotlib.pyplot as plt \n",
    "from scipy.optimize import minimize \n",
    "from scipy.stats import linregress \n",
    "\n",
    "class OperatingPoint:\n",
    "    def __init__(self, P_pu: float, Q_pu: float, V_pu: float):\n",
    "        self.P_pu = P_pu\n",
    "        self.Q_pu = Q_pu\n",
    "        self.V_pu = V_pu \n",
    "        \n",
    "    def get_point(self): \n",
    "        return self.P_pu, self.Q_pu, self.V_pu\n",
    "    \n",
    "    def get_current(self, give_angle=False): \n",
    "        I = np.sqrt(self.P_pu**2 + self.Q_pu**2)/self.V_pu\n",
    "        if give_angle: \n",
    "            if self.P_pu == 0 and self.Q_pu == 0: \n",
    "                phi = 0\n",
    "            elif self.P_pu == 0 and not self.Q_pu == 0: \n",
    "                phi = np.pi/2 * np.sign(self.Q_pu)\n",
    "            else: \n",
    "                phi = np.arctan(self.Q_pu/self.P_pu)\n",
    "            return I, phi\n",
    "        else: \n",
    "            return I\n",
    "            \n",
    "class SaturationModel: \n",
    "    def __init__(self, bv, C, n1, k1): \n",
    "        self.bv = bv\n",
    "        self.C = C\n",
    "        self.n1 = n1\n",
    "        self.k1 = k1 \n",
    "        \n",
    "    def calc_ifd(self, Xq, Xd, Xp, Ra, Vt, P, Q) -> float: \n",
    "        ia = np.sqrt(P**2 + Q**2)/Vt\n",
    "        if P == 0 and Q == 0: \n",
    "            phi = 0\n",
    "        elif P == 0 and not Q == 0: \n",
    "            phi = np.pi/2 * np.sign(Q)\n",
    "        else: \n",
    "            phi = np.arctan(Q/P) #Phase angle between terminal voltage and armature current\n",
    "        delta = np.arctan(ia*(Xq*np.cos(phi)-(Ra*np.sin(phi)))/(Vt+(Ra*ia*np.cos(phi))+Xq*ia*np.sin(phi))) #Power load angle \n",
    "        egu = Vt*np.cos(delta) + (Ra*ia*np.cos(delta+phi)) + Xd*ia*np.sin(delta+phi) \n",
    "        th = np.arctan(ia*(Xp*np.cos(phi) - Ra*np.sin(phi)) / (Vt + (Ra*ia*np.cos(phi)) + Xp*ia*np.sin(phi)) ) #Potiervinkel \n",
    "        ep = Vt*np.cos(th) + (Ra*ia*np.cos(th+phi)) + Xp*ia*np.sin(th+phi) \n",
    "        ifu = egu/self.bv #Field current ved luftgapslinje \n",
    "        ep_bool = ep > 0.55 #Lager en array av True eller False (1 eller 0) slik at ifs kan lett regnes ut av i neste linje i mange tilfeller samtidig\n",
    "        ifs = ((ep + self.C*ep**self.n1)*self.k1 - ep/self.bv) * ep_bool #Field inkludert saturation\n",
    "        ifd = (ifu + ifs) \n",
    "        return ifd, delta, egu"
   ]
  },
  {
   "cell_type": "code",
   "execution_count": 98,
   "metadata": {},
   "outputs": [
    {
     "data": {
      "text/plain": [
       "1094.02"
      ]
     },
     "execution_count": 98,
     "metadata": {},
     "output_type": "execute_result"
    }
   ],
   "source": [
    "#Known values from Åbjøra: \n",
    "Sn_mva = 103 #MVA \n",
    "Vn_kV = 11 # kV\n",
    "cos_phi = 0.9 \n",
    "eta_n = 0.98834 #Nominal efficiency \n",
    "\n",
    "Ia_n = 5406 #Amp \n",
    "If_n = 1065 #Amp \n",
    "If_base = 525.15 #Amp\n",
    "\n",
    "Zb = Vn_kV**2/Sn_mva\n",
    "Ra = 0.002\n",
    "Xd = 1.087\n",
    "Xq = 0.676\n",
    "Xp = 0.141\n",
    "\n",
    "#Losses at nominal operating point:\n",
    "P_nom = 0.9 \n",
    "Q_nom = 0.436\n",
    "V_nom = 1.0\n",
    "P_f_pu = 173.65 / (Sn_mva*1000) #kW -> pu\n",
    "P_ex_pu = 15.88 / (Sn_mva*1000) #kW -> pu\n",
    "P_br_pu = 2.13 / (Sn_mva*1000) #kW -> pu\n",
    "P_a_pu = 187.46 / (Sn_mva*1000) #kW -> pu\n",
    "P_s_pu = 89.16 / (Sn_mva*1000) #kW -> pu\n",
    "P_c_pu = 211.92 / (Sn_mva*1000) #kW -> pu\n",
    "P_be_pu = 240.90 / (Sn_mva*1000) #kW -> pu\n",
    "P_wf_pu = 172.92 / (Sn_mva*1000) #kW -> pu\n",
    "\n",
    "P_stator = P_a_pu + P_s_pu\n",
    "P_rotor = P_f_pu + P_ex_pu + P_br_pu\n",
    "P_constant = P_c_pu + P_be_pu + P_wf_pu\n",
    "\n",
    "P_loss = P_f_pu + P_ex_pu + P_br_pu + P_a_pu + P_s_pu + P_c_pu + P_be_pu + P_wf_pu\n",
    "P_loss*Sn_mva*1000"
   ]
  },
  {
   "cell_type": "code",
   "execution_count": 99,
   "metadata": {},
   "outputs": [
    {
     "name": "stdout",
     "output_type": "stream",
     "text": [
      "1: Deviation of 2.5782058252427423e-07 pu\n",
      "2: Deviation of 1.328881553399816e-07 pu\n",
      "3: Deviation of 1.5911456310727448e-08 pu\n"
     ]
    }
   ],
   "source": [
    "# Calculate a stray resistance equivalent to the stray loss in the stator\n",
    "R_stator = P_stator/((Ia_n/Ia_n)**2) #Ignore Ra given from the data sheet. \n",
    "\n",
    "#Testing for different operating points: \n",
    "OP1 = OperatingPoint(0.9, 0.436, 1.0) \n",
    "OP2 = OperatingPoint(0.675, 0.327, 1.0) \n",
    "OP3 = OperatingPoint(0.45, 0.218, 1.0) \n",
    "\n",
    "P_stator_1 = R_stator*OP1.get_current()**2\n",
    "P_stator_2 = R_stator*OP2.get_current()**2\n",
    "P_stator_3 = R_stator*OP3.get_current()**2\n",
    "\n",
    "P_stator_1_real = (187.46 + 89.16)/(Sn_mva*1000)\n",
    "P_stator_2_real = (105.45 + 50.15)/(Sn_mva*1000)\n",
    "P_stator_3_real = (46.86 + 22.30 )/(Sn_mva*1000)\n",
    "\n",
    "print(f\"1: Deviation of {P_stator_1 - P_stator_1_real} pu\")\n",
    "print(f\"2: Deviation of {P_stator_2 - P_stator_2_real} pu\")\n",
    "print(f\"3: Deviation of {P_stator_3 - P_stator_3_real} pu\")"
   ]
  },
  {
   "cell_type": "code",
   "execution_count": 4,
   "metadata": {},
   "outputs": [],
   "source": [
    "def calc_ifd(Ra, Xd, Xq, Xp, Vt, P, Q): \n",
    "    ia = np.sqrt(P**2 + Q**2)/Vt\n",
    "    if P == 0 and Q == 0: \n",
    "        phi = 0\n",
    "    elif P == 0 and not Q == 0: \n",
    "        phi = np.pi/2 * np.sign(Q)\n",
    "    else: \n",
    "        phi = np.arctan(Q/P) #Phase angle between terminal voltage and armature current\n",
    "    delta = np.arctan(ia*(Xq*np.cos(phi)-(Ra*np.sin(phi)))/(Vt+(Ra*ia*np.cos(phi))+Xq*ia*np.sin(phi))) #Power load angle \n",
    "    egu = Vt*np.cos(delta) + (Ra*ia*np.cos(delta+phi)) + Xd*ia*np.sin(delta+phi) \n",
    "    th = np.arctan(ia*(Xp*np.cos(phi) - Ra*np.sin(phi)) / (Vt + (Ra*ia*np.cos(phi)) + Xp*ia*np.sin(phi)) ) #Potiervinkel \n",
    "    ep = Vt*np.cos(th) + (Ra*ia*np.cos(th+phi)) + Xp*ia*np.sin(th+phi) \n",
    "    return egu, ep \n",
    "    # ifu = egu/self.bv #Field current ved luftgapslinje \n",
    "    # ifs = ((ep + self.C*ep**self.n1)*self.k1 - ep/self.bv) * ep_bool #Field inkludert saturation\n",
    "    # ifd = (ifu + ifs) \n",
    "    # return ifd, delta, egu\n",
    "\n",
    "\n",
    "    "
   ]
  },
  {
   "cell_type": "code",
   "execution_count": 77,
   "metadata": {},
   "outputs": [],
   "source": [
    "#No-load Characteristics: \n",
    "If_points = np.array([0.105, 0.190, 0.27, 0.39, 0.49, 0.605, 0.71, 0.78, 0.83, 0.925, 0.99, 1.1, 1.195, 1.28, 1.42])\n",
    "Eg_points = np.array([0.105, 0.2, 0.29, 0.4, 0.5, 0.6, 0.69, 0.75, 0.8, 0.83, 0.85, 0.98, 1.0, 1.05, 1.11])\n",
    "\n",
    "def get_sat_params_v1(If_points, Eg_points, threshold): \n",
    "    #Step 1: Find the linear characteristic. TODO: Don't do this, and instead just optimize both bv and m in the model from data. \n",
    "    #Assuming linear characteristics up to If = 0.8 \n",
    "    def If_linear(If_points, Eg_points, threshold=0.8): \n",
    "        If = If_points[If_points <= threshold]\n",
    "        Eg = Eg_points[If_points <= threshold]\n",
    "        res = linregress(If, Eg)\n",
    "        return res.slope\n",
    "\n",
    "    bv = If_linear(If_points, Eg_points, threshold=0.7)\n",
    "\n",
    "    #Step 2: Determine m and find the saturated characteristic. \n",
    "    def If_sat(X, If_points, Eg_points, m): \n",
    "        Cm, k = X \n",
    "        If_est = k*(Eg_points + Cm*Eg_points**m)\n",
    "        return sum((If_est - If_points)**2)\n",
    "\n",
    "    m = 7\n",
    "    Cm_0 = 1.0\n",
    "    k_0 = 1.0\n",
    "    sol = minimize(If_sat, np.array([Cm_0, k_0]), args=(If_points, Eg_points, m))\n",
    "    Cm, k = sol.x \n",
    "    return bv, k, Cm, m\n",
    "\n",
    "def predict_If(Eg_points, Ep_points, bv, k, Cm, m): \n",
    "    If_est = (Eg_points - Ep_points)/bv + k*(Ep_points + Cm*Ep_points**m)\n",
    "    return If_est\n",
    "\n",
    "def calc_emfs(Ra, Xd, Xq, Xp, Vt, P, Q): #In pu values\n",
    "    ia = np.sqrt(P**2 + Q**2)/Vt\n",
    "    if P == 0 and Q == 0: \n",
    "        phi = 0\n",
    "    elif P == 0 and not Q == 0: \n",
    "        phi = np.pi/2 * np.sign(Q)\n",
    "    else: \n",
    "        phi = np.arctan(Q/P) #Phase angle between terminal voltage and armature current\n",
    "    delta = np.arctan(ia*(Xq*np.cos(phi)-(Ra*np.sin(phi)))/(Vt+(Ra*ia*np.cos(phi))+Xq*ia*np.sin(phi))) #Power load angle \n",
    "    egu = Vt*np.cos(delta) + (Ra*ia*np.cos(delta+phi)) + Xd*ia*np.sin(delta+phi) \n",
    "    th = np.arctan(ia*(Xp*np.cos(phi) - Ra*np.sin(phi)) / (Vt + (Ra*ia*np.cos(phi)) + Xp*ia*np.sin(phi)) ) #Potiervinkel \n",
    "    ep = Vt*np.cos(th) + (Ra*ia*np.cos(th+phi)) + Xp*ia*np.sin(th+phi) \n",
    "    return egu, ep \n",
    "\n",
    "def calc_ifd(Xq, Xd, Xp, Ra, Vt, P, Q) -> float: \n",
    "    ia = np.sqrt(P**2 + Q**2)/Vt\n",
    "    if P == 0 and Q == 0: \n",
    "        phi = 0\n",
    "    elif P == 0 and not Q == 0: \n",
    "        phi = np.pi/2 * np.sign(Q)\n",
    "    else: \n",
    "        phi = np.arctan(Q/P) #Phase angle between terminal voltage and armature current\n",
    "    delta = np.arctan(ia*(Xq*np.cos(phi)-(Ra*np.sin(phi)))/(Vt+(Ra*ia*np.cos(phi))+Xq*ia*np.sin(phi))) #Power load angle \n",
    "    egu = Vt*np.cos(delta) + (Ra*ia*np.cos(delta+phi)) + Xd*ia*np.sin(delta+phi) \n",
    "    th = np.arctan(ia*(Xp*np.cos(phi) - Ra*np.sin(phi)) / (Vt + (Ra*ia*np.cos(phi)) + Xp*ia*np.sin(phi)) ) #Potiervinkel \n",
    "    ep = Vt*np.cos(th) + (Ra*ia*np.cos(th+phi)) + Xp*ia*np.sin(th+phi) \n",
    "    return egu, ep"
   ]
  },
  {
   "cell_type": "code",
   "execution_count": 83,
   "metadata": {},
   "outputs": [
    {
     "name": "stdout",
     "output_type": "stream",
     "text": [
      "bv = 0.987, k = 1.028, Cm = 0.137, m = 7\n",
      "1.7509292093001916 1.072322847641498\n"
     ]
    },
    {
     "data": {
      "text/plain": [
       "1060.5971493757645"
      ]
     },
     "execution_count": 83,
     "metadata": {},
     "output_type": "execute_result"
    }
   ],
   "source": [
    "Ra = 0.002 \n",
    "Xd = 1.087\n",
    "Xq = 0.676\n",
    "Xp = 0.141 + 0.003\n",
    "If_base = 525.15\n",
    "\n",
    "bv, k, Cm, m = get_sat_params_v1(If_points, Eg_points, threshold=0.7)\n",
    "print(\"bv = %.3f, k = %.3f, Cm = %.3f, m = %.i\" % (bv, k, Cm, m))\n",
    "P = 0.9\n",
    "Q = P*np.tan(np.arccos(0.9))\n",
    "Vt = 1.0\n",
    "egu, ep  = calc_emfs(Ra, Xd, Xq, Xp, Vt, P, Q)\n",
    "print(egu, ep)\n",
    "\n",
    "# bv = 1.0 \n",
    "# Cm = 0.16 \n",
    "# m = 7 \n",
    "# k = 1.0308\n",
    "\n",
    "If_pred = predict_If(egu, ep, bv, k, Cm, m)\n",
    "If_pred*If_base"
   ]
  },
  {
   "cell_type": "code",
   "execution_count": 85,
   "metadata": {},
   "outputs": [
    {
     "data": {
      "image/png": "[encoded data removed]",
      "text/plain": [
       "<Figure size 432x288 with 1 Axes>"
      ]
     },
     "metadata": {
      "needs_background": "light"
     },
     "output_type": "display_data"
    }
   ],
   "source": [
    "ag_line = If_points*bv\n",
    "\n",
    "plt.scatter(If_points, Eg_points)\n",
    "# plt.plot(If_points, ag_line)\n",
    "plt.plot(k*(Eg_points + Cm*Eg_points**m), Eg_points)\n",
    "plt.grid()\n",
    "plt.show()"
   ]
  },
  {
   "cell_type": "code",
   "execution_count": 7,
   "metadata": {},
   "outputs": [],
   "source": []
  },
  {
   "cell_type": "code",
   "execution_count": 11,
   "metadata": {},
   "outputs": [
    {
     "data": {
      "text/plain": [
       "0.7654989594262225"
      ]
     },
     "execution_count": 11,
     "metadata": {},
     "output_type": "execute_result"
    }
   ],
   "source": []
  },
  {
   "cell_type": "code",
   "execution_count": null,
   "metadata": {},
   "outputs": [],
   "source": []
  },
  {
   "cell_type": "code",
   "execution_count": 111,
   "metadata": {},
   "outputs": [
    {
     "data": {
      "text/plain": [
       "array([26.9193011 ,  1.13261958,  1.46241485, 54.70610234])"
      ]
     },
     "execution_count": 111,
     "metadata": {},
     "output_type": "execute_result"
    }
   ],
   "source": [
    "def field_model(X, Eg): \n",
    "    bv, Cm, m, k = X\n",
    "    If = Eg/bv + k*(Eg + Cm*Eg**m)\n",
    "    return If\n",
    "\n",
    "def MSE(X, Eg, If): \n",
    "    bv, Cm, m, k = X\n",
    "    If_model = Eg/bv + k*(Eg + Cm*Eg**m)\n",
    "    return np.mean((If_model - If)**2)\n",
    "\n",
    "def calc_emfs(Ra, Xd, Xq, Xp, Vt, P, Q): \n",
    "    ia = np.sqrt(P**2 + Q**2)/Vt\n",
    "    if P == 0 and Q == 0: \n",
    "        phi = 0\n",
    "    elif P == 0 and not Q == 0: \n",
    "        phi = np.pi/2 * np.sign(Q)\n",
    "    else: \n",
    "        phi = np.arctan(Q/P) #Phase angle between terminal voltage and armature current\n",
    "    delta = np.arctan(ia*(Xq*np.cos(phi)-(Ra*np.sin(phi)))/(Vt+(Ra*ia*np.cos(phi))+Xq*ia*np.sin(phi))) #Power load angle \n",
    "    egu = Vt*np.cos(delta) + (Ra*ia*np.cos(delta+phi)) + Xd*ia*np.sin(delta+phi) \n",
    "    th = np.arctan(ia*(Xp*np.cos(phi) - Ra*np.sin(phi)) / (Vt + (Ra*ia*np.cos(phi)) + Xp*ia*np.sin(phi)) ) #Potiervinkel \n",
    "    ep = Vt*np.cos(th) + (Ra*ia*np.cos(th+phi)) + Xp*ia*np.sin(th+phi) \n",
    "    return egu, ep \n",
    "    \n",
    "\n",
    "bv = 1.0\n",
    "Cm = 0.160\n",
    "m = 7 \n",
    "k = 1.0308 \n",
    "X = [bv, Cm, m, k]\n",
    "\n",
    "sol = minimize(MSE, X, args=(Eg_points*Vn_kV/np.sqrt(3), If_points*If_n), method='Nelder-Mead')\n",
    "bv_sol, Cm_sol, m_sol, k_sol = sol.x \n",
    "sol.x"
   ]
  },
  {
   "cell_type": "code",
   "execution_count": 115,
   "metadata": {},
   "outputs": [
    {
     "data": {
      "image/png": "[encoded data removed]",
      "text/plain": [
       "<Figure size 432x288 with 1 Axes>"
      ]
     },
     "metadata": {
      "needs_background": "light"
     },
     "output_type": "display_data"
    }
   ],
   "source": [
    "If_sim = field_model([bv_sol, Cm_sol, m_sol, k_sol], Eg_points*Vn_kV/np.sqrt(3)) \n",
    "\n",
    "plt.plot(If_points*If_n, Eg_points*Vn_kV/np.sqrt(3), 'o')\n",
    "plt.plot(If_sim, Eg_points*Vn_kV/np.sqrt(3), )\n",
    "plt.grid()\n",
    "plt.show()"
   ]
  },
  {
   "cell_type": "code",
   "execution_count": 117,
   "metadata": {},
   "outputs": [
    {
     "data": {
      "text/plain": [
       "1.1808551144298324e+29"
      ]
     },
     "execution_count": 117,
     "metadata": {},
     "output_type": "execute_result"
    }
   ],
   "source": [
    "p, q, v = OP1.get_PQV_pu(S_base=103, V_base=11)\n",
    "eg, ep = calc_emfs(Ra, Xd, Xq, Xp, OP1.V_kV*1000/np.sqrt(3), OP1.P_mw*1e6/3, OP1.Q_mvar*1e6/3)\n",
    "eg = eg\n",
    "ep = ep*np.sqrt(3)/11000\n",
    "\n",
    "# If = (eg - ep)/bv_sol + k_sol*(ep + Cm_sol*ep**m_sol)\n",
    "If = (eg - ep)/bv + k*(ep + Cm*ep**m)\n",
    "If*If_n"
   ]
  },
  {
   "cell_type": "code",
   "execution_count": 91,
   "metadata": {},
   "outputs": [
    {
     "data": {
      "text/plain": [
       "92.7"
      ]
     },
     "execution_count": 91,
     "metadata": {},
     "output_type": "execute_result"
    }
   ],
   "source": [
    "OP1.P_mw"
   ]
  },
  {
   "cell_type": "code",
   "execution_count": 44,
   "metadata": {},
   "outputs": [
    {
     "data": {
      "image/png": "[encoded data removed]",
      "text/plain": [
       "<Figure size 432x288 with 1 Axes>"
      ]
     },
     "metadata": {
      "needs_background": "light"
     },
     "output_type": "display_data"
    }
   ],
   "source": []
  },
  {
   "cell_type": "code",
   "execution_count": null,
   "metadata": {},
   "outputs": [],
   "source": []
  },
  {
   "cell_type": "code",
   "execution_count": null,
   "metadata": {},
   "outputs": [],
   "source": []
  },
  {
   "cell_type": "code",
   "execution_count": null,
   "metadata": {},
   "outputs": [],
   "source": []
  },
  {
   "cell_type": "code",
   "execution_count": null,
   "metadata": {},
   "outputs": [],
   "source": []
  }
 ],
 "metadata": {
  "kernelspec": {
   "display_name": "Python 3.8.8 ('base')",
   "language": "python",
   "name": "python3"
  },
  "language_info": {
   "codemirror_mode": {
    "name": "ipython",
    "version": 3
   },
   "file_extension": ".py",
   "mimetype": "text/x-python",
   "name": "python",
   "nbconvert_exporter": "python",
   "pygments_lexer": "ipython3",
   "version": "3.8.8"
  },
  "orig_nbformat": 4,
  "vscode": {
   "interpreter": {
    "hash": "f58ff98765a12baaf9db7af8ec90982f17696552882317702c605e1548c26a37"
   }
  }
 },
 "nbformat": 4,
 "nbformat_minor": 2
}
