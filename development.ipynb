{
 "cells": [
  {
   "cell_type": "code",
   "execution_count": 77,
   "metadata": {},
   "outputs": [],
   "source": [
    "import numpy as np \n",
    "from numpy import sin, cos, sqrt\n",
    "import matplotlib.pyplot as plt \n",
    "from scipy.interpolate import interp1d\n",
    "from SynGenLoss.Model2.aabjora_model import AabjoraModel "
   ]
  },
  {
   "cell_type": "code",
   "execution_count": 7,
   "metadata": {},
   "outputs": [
    {
     "data": {
      "text/plain": [
       "0.676"
      ]
     },
     "execution_count": 7,
     "metadata": {},
     "output_type": "execute_result"
    }
   ],
   "source": [
    "data = AabjoraModel().md \n",
    "data.X_q"
   ]
  },
  {
   "cell_type": "code",
   "execution_count": null,
   "metadata": {},
   "outputs": [],
   "source": [
    "class CapabilityDiagram: \n",
    "    def __init__(self, gen_data, P_min_pu, P_max_pu, N_vals=1000): \n",
    "        self.X_d = gen_data.X_d\n",
    "        self.X_q = gen_data.X_q\n",
    "        self.P_min = P_min_pu \n",
    "        self.P_max = P_max_pu\n",
    "        self.N_vals = N_vals\n",
    "\n",
    "        # TODO: Find proper values for these\n",
    "        self.E_min = 0.1\n",
    "        self.Ifd_max = 2.03 \n",
    "        self.delta_max = 30 * np.pi/180\n",
    "        \n",
    "    def calc_L1(self, V_g): \n",
    "        \"\"\"Minimum internal voltage limit / UEL\"\"\"\n",
    "        th = np.linspace(0, np.pi/2, self.N_vals)\n",
    "        R = (0.5*V_g**2 * (self.X_d-self.X_q))/(self.X_d*self.X_q) + self.E_min \n",
    "        c = (0.5*V_g**2 * (self.X_d+self.X_q))/(self.X_d*self.X_q) - self.E_min \n",
    "        L1 = np.array([R*np.cos(th) - c, R*np.sin(th)])\n",
    "        return L1\n",
    "\n",
    "    def calc_L2(self, V_g): \n",
    "        \"\"\"Rotor Stability Limit\"\"\"\n",
    "        eq = np.linspace(0, 2, self.N_vals) #internal voltages\n",
    "        a = eq*self.X_q / (V_g*(self.X_d-self.X_q))\n",
    "        b = np.sqrt(a**2 + 8)\n",
    "        cos_delta = 0.25 * (b - a) #stability factor ?\n",
    "        delta = np.arccos(cos_delta) \n",
    "        c = eq*V_g / self.X_d * np.sin(delta) \n",
    "        d = 0.5*V_g**2 * (self.X_d - self.X_q)/self.X_d * self.X_q * np.sin(2*delta)\n",
    "        P = c + d \n",
    "        e = V_g**2 *((self.X_d-self.X_q)/self.X_d * self.X_q) * np.sin(delta)**2 \n",
    "        f = V_g**2 / self.X_d \n",
    "        Q = eq*V_g/self.X_d * np.cos(delta) - f - e\n",
    "        stab_m = 0.75 #Stability marigin (comes from??)\n",
    "        S = (P + Q*1j) * stab_m \n",
    "        L2 = np.array([np.imag(S) , np.real(S)])\n",
    "        return L2\n",
    "\n",
    "    def calc_L3(self, V_g):\n",
    "        \"\"\"Stator current limit\"\"\"\n",
    "        th = np.linspace(np.pi/2, -np.pi/2, self.N_vals)\n",
    "        I = np.cos(th) + 1j*np.sin(th)\n",
    "        S = np.conj(I)*V_g\n",
    "        L3 = np.array([np.imag(S), np.real(S)])*V_g\n",
    "        return L3\n",
    "\n",
    "    def calc_L4(self, V_g):\n",
    "        \"\"\"Rotor thermal limit\"\"\"\n",
    "        th = np.linspace(0, 95.5, self.N_vals)*np.pi/180\n",
    "        R = np.sqrt((self.Qn + 1/self.xq_pu)**2 + self.Pn**2)\n",
    "        x = R*np.sin(th) - 1/self.xq_pu \n",
    "        y = R*np.cos(th)\n",
    "        L4 = np.array([x, y])\n",
    "        return L4\n",
    "    \n",
    "    def get_Q_lims(self, V: float, P_pu: float) -> Sequence[float]: \n",
    "        \"\"\"Finds the Q_pu limits for a given voltage and active power- \\n \n",
    "        The active power value is limited to be within P_min and P_max, considering \\n \n",
    "        both set limitations and the capability diagram upper limit. \\n \n",
    "        Returns P_actual_pu, Q_min_pu, Q_max_pu \"\"\"\n",
    "        L1 = self.calc_L1(V, 0.1) \n",
    "        L2 = self.calc_L2(V) \n",
    "        L3 = self.calc_L3(V) \n",
    "        L4 = self.calc_L4() \n",
    "        \n",
    "        Q_min_curve = self.Q_min_curve(L1, L2, L3)\n",
    "        Q_max_curve = self.Q_max_curve(L3, L4)\n",
    "        P_min = np.max([self.P_min, Q_min_curve.x.min(), Q_max_curve.x.min()])\n",
    "        P_max = np.min([self.P_max, Q_min_curve.x.max(), Q_max_curve.x.max()])\n",
    "        P_pu = np.clip(P_pu, P_min, P_max)\n",
    "        Q_min_pu = Q_min_curve(P_pu)\n",
    "        Q_max_pu = Q_max_curve(P_pu)\n",
    "        return P_pu, Q_min_pu, Q_max_pu\n",
    "        \n",
    "    def Q_min_curve(self, L1_vals, L2_vals, L3_vals): \n",
    "        L3_min_side = L3_vals.T[:np.argmax(L3_vals[1])].T\n",
    "        L1 = interp1d(L1_vals[1], L1_vals[0])\n",
    "        L2 = interp1d(L2_vals[1], L2_vals[0]) \n",
    "        L3 = interp1d(L3_min_side[1], L3_min_side[0]) \n",
    "\n",
    "        x_min = np.max([L1.x.min(), L2.x.min()])\n",
    "        x_max = np.min([L1.x.max(), L2.x.max()])\n",
    "        intersect1 = brenth(lambda x: L1(x) - L2(x), a=x_min, b=x_max)\n",
    "\n",
    "        x_min = np.max([L2.x.min(), L3.x.min()])\n",
    "        x_max = np.min([L2.x.max(), L3.x.max()])\n",
    "        intersect2 = brenth(lambda x: L2(x) - L3(x), a=x_min, b=x_max)\n",
    "\n",
    "        L1 = L1_vals.T[L1_vals[1] < intersect1]\n",
    "        L2 = L2_vals.T[np.logical_and(L2_vals[1] >= intersect1, L2_vals[1] < intersect2)]\n",
    "        L3 = L3_min_side.T[L3_min_side[1] >= intersect2]\n",
    "        L = np.concatenate((L1, L2, L3), axis=0).T\n",
    "        L = interp1d(L[1], L[0], kind='linear') \n",
    "        return L\n",
    "    \n",
    "    def Q_max_curve(self, L3_vals, L4_vals): \n",
    "        L3_max_side = L3_vals.T[np.argmax(L3_vals[1]):].T\n",
    "        L3 = interp1d(L3_max_side[1], L3_max_side[0]) \n",
    "        L4 = interp1d(L4_vals[1], L4_vals[0])\n",
    "\n",
    "        x_min = np.max([L3.x.min(), L4.x.min()])\n",
    "        x_max = np.min([L3.x.max(), L4.x.max()])\n",
    "        intersect1 = brenth(lambda x: L3(x) - L4(x), a=x_min, b=x_max)\n",
    "\n",
    "        L3 = L3_max_side.T[L3_max_side[1] > intersect1]\n",
    "        L4 = L4_vals.T[np.logical_and(L4_vals[1] <= intersect1, L4_vals[1] >= 0)]\n",
    "        L = np.concatenate((L3, L4), axis=0).T\n",
    "        L = interp1d(L[1], L[0], kind='linear') \n",
    "        return L"
   ]
  },
  {
   "cell_type": "code",
   "execution_count": 90,
   "metadata": {},
   "outputs": [],
   "source": [
    "def objective(X, V_g, R_a, X_d, X_q, X_l, Ifd_max, P_g, SG10, SG12): \n",
    "    X_ad_un = X_d - X_l\n",
    "    X_aq_un = X_q - X_l \n",
    "    exp = np.log(1.2*SG12/SG10) / np.log(1.2)\n",
    "    \n",
    "    [e_d, e_q, i_d, i_q, Q_g, delta, X_ad, X_aq] = X \n",
    "    phi = np.arctan(Q_g / P_g)\n",
    "    I_t = np.sqrt(i_d**2 + i_q**2)\n",
    "    X_d = X_ad + X_l \n",
    "    X_q = X_aq + X_l \n",
    "    \n",
    "    # Saturation: \n",
    "    psi_d = e_q + R_a*i_q \n",
    "    psi_q = -e_d - R_a*i_d \n",
    "    psi_m = np.sqrt((psi_d + X_l*i_d)**2 + (psi_q + X_l*i_q)**2) \n",
    "    c_sat = SG10*psi_m**exp / psi_m \n",
    "    sat_d = 1.0 / (1 + c_sat)\n",
    "    sat_q = 1.0 / (1 + c_sat*X_aq_un/X_ad_un)\n",
    "    \n",
    "    f1 = e_d -  (V_g * np.sin(delta))\n",
    "    f2 = e_q -  (Ifd_max*X_ad - X_d*i_d - R_a*i_q) # e_q\n",
    "    f3 = i_d -  (I_t * np.sin(delta + phi))\n",
    "    f4 = i_q -  (I_t * np.cos(delta + phi))\n",
    "    f5 = Q_g -  (e_q*i_d - e_d*i_q) \n",
    "    f6 = delta -(np.arctan((X_q*I_t*np.cos(phi) - R_a*I_t*np.sin(phi)) / (V_g + R_a*I_t*np.cos(phi) + X_q*I_t*np.sin(phi))))\n",
    "    f7 = X_ad - (X_ad_un * sat_d)\n",
    "    f8 = X_aq - (X_aq_un * sat_q)\n",
    "    \n",
    "    return np.array([f1, f2, f3, f4, f5, f6, f7, f8])\n",
    "\n",
    "def objective2(X, E_t, P_g, Ifd_max, R_a, X_ad_un, X_aq_un, X_l, SG10, SG12): \n",
    "    \"\"\"The variable X is an array of all unknowns. All 17 equations should equal 0 in order to solve the system of equations. \"\"\"\n",
    "    #         0    1   2    3    4   5   6   7   8     9     10     11     12     13    14    15    16    17   18\n",
    "    #  X = [delta, Xd, Xq, Xad, Xaq, ed, eq, id, iq, psi_d, psi_q, sat_d, sat_q, c_sat, exp, psi_m, I_t, phi, Q_g]\n",
    "    delta, X_d, X_q, X_ad, X_aq, e_d, e_q, i_d, i_q, psi_d, psi_q, sat_d, sat_q, c_sat, exp, psi_m, I_t, phi, Q_g = X\n",
    "    f1 =  delta  -  (np.arctan( (X_q*I_t*cos(phi) - R_a*I_t*sin(phi)) / (E_t + R_a*I_t*cos(phi) + X_q*I_t*sin(phi)) ) ) # delta\n",
    "    f2 =  X_d  -    (X_ad + X_l) # X_d_sat \n",
    "    f3 =  X_q  -    (X_aq + X_l) # X_q_sat\n",
    "    f4 =  X_ad  -   (X_ad_un * sat_d) # X_ad_sat\n",
    "    f5 =  X_aq  -   (X_aq_un * sat_q) # X_aq_sat \n",
    "    f6 =  e_d  -    (E_t*sin(delta)) # e_d\n",
    "    f7 =  e_q  -    (E_t*cos(delta)) # e_q\n",
    "    f8 =  i_d  -    (I_t*sin(phi + delta)) # i_d\n",
    "    f9 =  i_q  -    (I_t*cos(phi + delta)) # i_q\n",
    "    f10 = psi_d  -  (e_q + R_a*i_q) # psi_d\n",
    "    f11 = psi_q -   (-e_d - R_a*i_d) # psi_q \n",
    "    f12 = sat_d -   (1.0 / (1.0 + c_sat)) # sat_d\n",
    "    f13 = sat_q -   (1.0/(1 + X_aq_un/X_ad_un * c_sat)) # sat_q\n",
    "    f14 = c_sat -   (SG10 * psi_m**exp / psi_m) # c_sat \n",
    "    f15 = exp -     (np.log(1.2 * SG12/SG10) / np.log(1.2)) # exp \n",
    "    f16 = psi_m -   (np.sqrt((psi_d + X_l*i_d)**2 + (psi_q + X_l*i_q)**2)) # psi_m\n",
    "    f17 = I_t -     (np.sqrt(P_g**2 + Q_g**2)/E_t) \n",
    "    f18 = phi -     (np.arctan(Q_g / P_g) ) \n",
    "    f19 = Q_g -     (e_q*i_d - e_d*i_q)\n",
    "    return np.array([f1, f2, f3, f4, f5, f6, f7, f8, f9, f10, f11, f12, f13, f14, f15, f16, f17, f18, f19])\n",
    "\n",
    "def init_calc(V_g, R_a, X_d, X_q, X_l, P_g): \n",
    "    Q_g_est = 0.436 \n",
    "    I_t = (P_g**2 + Q_g_est**2)/V_g\n",
    "    phi = np.arctan(Q_g_est / P_g)\n",
    "    delta = np.arctan((X_q*I_t*np.cos(phi) - R_a*I_t*np.sin(phi)) / (V_g + R_a*I_t*np.cos(phi) + X_q*I_t*np.sin(phi)))\n",
    "    e_d = V_g * np.sin(delta)\n",
    "    e_q = V_g * np.cos(delta)\n",
    "    i_d = I_t * np.sin(delta + phi)\n",
    "    i_q = I_t * np.cos(delta + phi)\n",
    "    return np.array([e_d, e_q, i_d, i_q, Q_g_est, delta, X_d - X_l, X_q - X_l])\n",
    "\n",
    "def init_calc2(e_d, e_q, i_d, i_q, Q_g, delta, X_ad, X_aq, X_l, R_a, SG10, SG12, X_ad_un, X_aq_un, P_g, V_g): \n",
    "    X_d = X_ad + X_l \n",
    "    X_q = X_aq + X_l \n",
    "    psi_d = e_q + R_a*i_q\n",
    "    psi_q = -e_d - R_a*i_d \n",
    "    psi_m =   (np.sqrt((psi_d + X_l*i_d)**2 + (psi_q + X_l*i_q)**2)) # psi_m\n",
    "    exp   =   (np.log(1.2 * SG12/SG10) / np.log(1.2)) # exp\n",
    "    c_sat =   (SG10 * psi_m**exp / psi_m) # c_sat \n",
    "    sat_d =   (1.0 / (1.0 + c_sat)) # sat_d\n",
    "    sat_q =   (1.0/(1 + X_aq_un/X_ad_un * c_sat)) # sat_q\n",
    "    I_t   =   (np.sqrt(P_g**2 + Q_g**2)/V_g) \n",
    "    phi   =   (np.arctan(Q_g / P_g) ) \n",
    "    Q_g   =   (e_q*i_d - e_d*i_q)\n",
    "    return np.array([delta, X_d, X_q, X_ad, X_aq, e_d, e_q, i_d, i_q, psi_d, psi_q, sat_d, sat_q, c_sat, exp, psi_m, I_t, phi, Q_g])\n",
    "    "
   ]
  },
  {
   "cell_type": "code",
   "execution_count": 103,
   "metadata": {},
   "outputs": [
    {
     "data": {
      "text/plain": [
       "0.5211263094442571"
      ]
     },
     "execution_count": 103,
     "metadata": {},
     "output_type": "execute_result"
    }
   ],
   "source": [
    "from scipy.optimize import root \n",
    "G1 = AabjoraModel() \n",
    "V_g = 1.0\n",
    "R_a = G1.md.R_a\n",
    "X_d = G1.md.X_d\n",
    "X_q = G1.md.X_q\n",
    "X_l = G1.md.X_l\n",
    "Ifd_max = 1.9975727943692592\n",
    "P_g = 0.3\n",
    "SG10 = G1.md.SG10\n",
    "SG12 = G1.md.SG12\n",
    "\n",
    "# X0 = np.array([1.0, 1.0, 1.0, 0.0, 1.0, 0.1])\n",
    "X0 = init_calc(V_g, R_a, X_d, X_q, X_l, P_g)\n",
    "\n",
    "sol = root(objective, X0, args=(V_g, R_a, X_d, X_q, X_l, Ifd_max, P_g, SG10, SG12), tol=1e-9)\n",
    "e_d, e_q, i_d, i_q, Q_g, delta, X_ad, X_aq = sol.x\n",
    "\n",
    "X0 = init_calc2(e_d, e_q, i_d, i_q, Q_g, delta, X_ad, X_aq, X_l, R_a, SG10, SG12, G1.md.X_ad_un, G1.md.X_aq_un, P_g, V_g)\n",
    "sol = root(objective2, X0, args=(V_g, P_g, Ifd_max, R_a, G1.md.X_ad_un, G1.md.X_aq_un, X_l, SG10, SG12), tol=1e-9)\n",
    "delta, X_d, X_q, X_ad, X_aq, e_d, e_q, i_d, i_q, psi_d, psi_q, sat_d, sat_q, c_sat, exp, psi_m, I_t, phi, Q_g = sol.x\n",
    "Q_g"
   ]
  },
  {
   "cell_type": "code",
   "execution_count": 94,
   "metadata": {},
   "outputs": [],
   "source": [
    "G1 = AabjoraModel() \n",
    "V_g = 1.0\n",
    "P_g = 0.9\n",
    "Ifd_max = 1.9975727943692592\n",
    "R_a = G1.md.R_a\n",
    "X_d = G1.md.X_d\n",
    "X_q = G1.md.X_q\n",
    "X_l = G1.md.X_l\n",
    "X_ad_un = G1.md.X_ad_un \n",
    "X_aq_un = G1.md.X_aq_un \n",
    "SG10 = G1.md.SG10\n",
    "SG12 = G1.md.SG12\n",
    "\n",
    "X0 = np.array([0.0, X_d, X_q, X_ad_un, X_aq_un, 0.0, V_g, P_g, 0.0, V_g, 0.0, 1.0, 1.0, 1.0, 1.0, 1.0, P_g, 0.0, 1.0])\n",
    "sol = root(objective2, X0, args=(V_g, P_g, Ifd_max, R_a, X_ad_un, X_aq_un, X_l, SG10, SG12), tol=1e-9)"
   ]
  },
  {
   "cell_type": "code",
   "execution_count": 83,
   "metadata": {},
   "outputs": [],
   "source": [
    "delta, X_d, X_q, X_ad, X_aq, e_d, e_q, i_d, i_q, psi_d, psi_q, sat_d, sat_q, c_sat, exp, psi_m, I_t, phi, Q_g = sol.x"
   ]
  },
  {
   "cell_type": "code",
   "execution_count": 84,
   "metadata": {},
   "outputs": [
    {
     "data": {
      "text/plain": [
       "0.3906323300280195"
      ]
     },
     "execution_count": 84,
     "metadata": {},
     "output_type": "execute_result"
    }
   ],
   "source": [
    "Q_g"
   ]
  },
  {
   "cell_type": "code",
   "execution_count": 58,
   "metadata": {},
   "outputs": [],
   "source": [
    "G1 = AabjoraModel() "
   ]
  },
  {
   "cell_type": "code",
   "execution_count": 51,
   "metadata": {},
   "outputs": [
    {
     "data": {
      "text/plain": [
       "1.9975727943692592"
      ]
     },
     "execution_count": 51,
     "metadata": {},
     "output_type": "execute_result"
    }
   ],
   "source": [
    "delta, X_d, X_q, i_d, i_q, i_fd = G1.calculate(0.9, 0.436, 1.0)\n",
    "i_fd"
   ]
  },
  {
   "cell_type": "code",
   "execution_count": 49,
   "metadata": {},
   "outputs": [
    {
     "data": {
      "text/plain": [
       "1.778879851768676"
      ]
     },
     "execution_count": 49,
     "metadata": {},
     "output_type": "execute_result"
    }
   ],
   "source": [
    "I_t, i_d, i_q, phi, e_d, e_q, delta, psi_d, psi_q, i_fd, e_fd = G1.init_no_sat(0.9, 0.4495507127682403, 1.0)\n",
    "i_fd"
   ]
  },
  {
   "cell_type": "code",
   "execution_count": 54,
   "metadata": {},
   "outputs": [
    {
     "data": {
      "text/plain": [
       "0.198"
      ]
     },
     "execution_count": 54,
     "metadata": {},
     "output_type": "execute_result"
    }
   ],
   "source": [
    "G1.md.SG10"
   ]
  },
  {
   "cell_type": "code",
   "execution_count": 1,
   "metadata": {},
   "outputs": [],
   "source": [
    "import numpy as np \n",
    "from numpy import sin, cos, sqrt, arctan \n",
    "from scipy.optimize import root\n",
    "import matplotlib.pyplot as plt "
   ]
  },
  {
   "cell_type": "code",
   "execution_count": 2,
   "metadata": {},
   "outputs": [],
   "source": [
    "def funcs(X, x_d, x_q, x_p, r_a, b_v, k, Cm, m, V_g, P, I_f): \n",
    "    e_g, e_p, delta, theta, Q = X \n",
    "    I_a = sqrt(P**2 + Q**2)/V_g\n",
    "    phi = arctan(Q/P)\n",
    "    f1 = (e_g - e_p)/b_v + k*(e_p + Cm*e_p**m) - I_f\n",
    "    f2 = V_g*cos(delta) + r_a*I_a*cos(delta+phi) + x_d*I_a*sin(delta+phi) - e_g\n",
    "    f3 = V_g*cos(theta) + r_a*I_a*cos(theta+phi) + x_p*I_a*sin(theta+phi) - e_p \n",
    "    f4 = arctan((I_a*(x_q*cos(phi) - r_a*sin(phi))) / (V_g + I_a*(r_a*cos(phi) + x_q*sin(phi)))) - delta \n",
    "    f5 = arctan((I_a*(x_p*cos(phi) - r_a*sin(phi))) / (V_g + I_a*(r_a*cos(phi) + x_p*sin(phi)))) - theta \n",
    "    return np.array([f1,f2,f3,f4,f5])\n",
    "\n",
    "def calc_L4(): \n",
    "    I_f_max = 2.0\n",
    "    P_vals = np.linspace(1e-3, 1.0, 100)\n",
    "    Q_vals = []\n",
    "    for P in P_vals: \n",
    "        X0 = np.array([V_g_test, 0.1*V_g_test, 0, 0, P])\n",
    "        sol = root(funcs, X0, args=(x_d, x_q, x_p, r_a, b_v, k, Cm, m, V_g_test, P, I_f_max))\n",
    "        Q = sol.x[-1]\n",
    "        Q_vals.append(Q)\n",
    "\n",
    "V_g = 1.0 \n",
    "I_f = 3 \n",
    "P = 0.5 \n",
    "x_d = 1.059 \n",
    "x_q = 0.676 \n",
    "x_p = 0.144 \n",
    "r_a = 0.002 \n",
    "b_v = 1.0 \n",
    "Cm = 0.16 \n",
    "m = 7 \n",
    "k = 1.0308 \n",
    "\n",
    "X0 = np.array([V_g, 0.1*V_g, 0, 0, P])"
   ]
  },
  {
   "cell_type": "code",
   "execution_count": 5,
   "metadata": {},
   "outputs": [],
   "source": [
    "V_g_vals = [0.8, 1.0, 1.1]\n",
    "I_f_max = 2.0\n",
    "P_vals = np.linspace(1e-3, 1.0, 100)\n",
    "Q_vals_tot = []\n",
    "for V_g_test in V_g_vals:\n",
    "    Q_vals = []\n",
    "    for P in P_vals: \n",
    "        X0 = np.array([V_g_test, 0.1*V_g_test, 0, 0, P])\n",
    "        sol = root(funcs, X0, args=(x_d, x_q, x_p, r_a, b_v, k, Cm, m, V_g_test, P, I_f_max))\n",
    "        Q = sol.x[-1]\n",
    "        Q_vals.append(Q)\n",
    "    Q_vals_tot.append(Q_vals)\n"
   ]
  },
  {
   "cell_type": "code",
   "execution_count": 6,
   "metadata": {},
   "outputs": [
    {
     "data": {
      "image/png": "[encoded data removed]",
      "text/plain": [
       "<Figure size 432x288 with 1 Axes>"
      ]
     },
     "metadata": {
      "needs_background": "light"
     },
     "output_type": "display_data"
    }
   ],
   "source": [
    "plt.plot(Q_vals_tot[0], P_vals, label=f\"V_g = {V_g_vals[0]}\")\n",
    "plt.plot(Q_vals_tot[1], P_vals, label=f\"V_g = {V_g_vals[1]}\")\n",
    "plt.plot(Q_vals_tot[2], P_vals, label=f\"V_g = {V_g_vals[2]}\")\n",
    "plt.xlim(-1, 1.6)\n",
    "plt.grid()\n",
    "plt.legend()\n",
    "plt.show()"
   ]
  },
  {
   "cell_type": "code",
   "execution_count": null,
   "metadata": {},
   "outputs": [],
   "source": []
  }
 ],
 "metadata": {
  "kernelspec": {
   "display_name": "Python 3.10.4 ('article_c_v0')",
   "language": "python",
   "name": "python3"
  },
  "language_info": {
   "codemirror_mode": {
    "name": "ipython",
    "version": 3
   },
   "file_extension": ".py",
   "mimetype": "text/x-python",
   "name": "python",
   "nbconvert_exporter": "python",
   "pygments_lexer": "ipython3",
   "version": "3.10.4"
  },
  "orig_nbformat": 4,
  "vscode": {
   "interpreter": {
    "hash": "19ffa3ea98af570537c830a80d780dbc546c56b5175657cac1e8ccbd03b70fd3"
   }
  }
 },
 "nbformat": 4,
 "nbformat_minor": 2
}
