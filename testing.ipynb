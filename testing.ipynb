{
 "cells": [
  {
   "cell_type": "markdown",
   "metadata": {},
   "source": [
    "# Basic testing of the library"
   ]
  },
  {
   "cell_type": "code",
   "execution_count": 1,
   "metadata": {},
   "outputs": [],
   "source": [
    "from SynGenLoss.Model1 import AabjoraModel as Aabj1\n",
    "from SynGenLoss.Model2 import AabjoraModel as Aabj2\n",
    "import numpy as np\n",
    "import matplotlib.pyplot as plt "
   ]
  },
  {
   "cell_type": "code",
   "execution_count": 2,
   "metadata": {},
   "outputs": [],
   "source": [
    "G1 = Aabj1() \n",
    "G2 = Aabj2() "
   ]
  },
  {
   "cell_type": "code",
   "execution_count": 3,
   "metadata": {},
   "outputs": [
    {
     "name": "stdout",
     "output_type": "stream",
     "text": [
      "Ia = 5406.00 A, If = 1064.93 A, delta = 0.44 rad\n",
      "Ia = 5406.00 A, If = 1048.96 A, delta = 0.40 rad\n"
     ]
    }
   ],
   "source": [
    "P = 0.9 \n",
    "Q = np.tan(np.arccos(P))*P\n",
    "V = 1.0\n",
    "Ia, If, delta = G1.calc_currents(P, Q, V)\n",
    "print(f\"Ia = {(Ia*5406):.2f} A, If = {(If*525.15):.2f} A, delta = {delta:.2f} rad\")\n",
    "delta, X_d, X_q, i_d, i_q, i_fd = G2.calculate(P, Q, V)\n",
    "print(f\"Ia = {(np.sqrt(i_d**2 + i_q**2)*5406):.2f} A, If = {(i_fd*525.15):.2f} A, delta = {delta:.2f} rad\")"
   ]
  },
  {
   "cell_type": "code",
   "execution_count": 4,
   "metadata": {},
   "outputs": [
    {
     "name": "stdout",
     "output_type": "stream",
     "text": [
      "Deviations: n = 0.00 %, Error in P_loss = -1.02 kW\n",
      "Deviations: n = 0.01 %, Error in P_loss = -6.49 kW\n"
     ]
    }
   ],
   "source": [
    "n_real = 0.98834 \n",
    "P_loss_real = 1094.02 #kW\n",
    "n, P_st, P_rot, P_con = G1.calc_losses_pu(P, Q, 1.0)\n",
    "P_loss = P_st + P_rot + P_con \n",
    "print(f\"Deviations: n = {(n*100-n_real*100):.2f} %, Error in P_loss = {(P_loss*103000-P_loss_real):.2f} kW\")\n",
    "n, P_st, P_rot, P_con = G2.calc_losses_pu(P, Q, 1.0)\n",
    "P_loss = P_st + P_rot + P_con \n",
    "print(f\"Deviations: n = {(n*100-n_real*100):.2f} %, Error in P_loss = {(P_loss*103000-P_loss_real):.2f} kW\")"
   ]
  },
  {
   "cell_type": "code",
   "execution_count": 5,
   "metadata": {},
   "outputs": [
    {
     "data": {
      "text/plain": [
       "[<matplotlib.lines.Line2D at 0x1460ef59ba0>]"
      ]
     },
     "execution_count": 5,
     "metadata": {},
     "output_type": "execute_result"
    },
    {
     "data": {
      "image/png": "[encoded data removed]",
      "text/plain": [
       "<Figure size 432x288 with 1 Axes>"
      ]
     },
     "metadata": {
      "needs_background": "light"
     },
     "output_type": "display_data"
    }
   ],
   "source": [
    "P = 0.5 \n",
    "V = 1.0\n",
    "Q_g = np.linspace(-1, 1, 11)\n",
    "i_fd_vals_G1 = []\n",
    "i_fd_vals_G2 = []\n",
    "\n",
    "for Q in Q_g: \n",
    "    Ia, i_fd, delta = G1.calc_currents(P, Q, V)\n",
    "    i_fd_vals_G1.append(i_fd) \n",
    "    delta, X_d, X_q, i_d, i_q, i_fd = G2.calculate(P, Q, V)\n",
    "    # I_t, i_d, i_q, phi, e_d, e_q, delta, psi_d, psi_q, i_fd, e_fd = G2.init_no_sat(P, Q, V)\n",
    "    i_fd_vals_G2.append(i_fd) \n",
    "    \n",
    "plt.plot(Q_g, i_fd_vals_G1)\n",
    "plt.plot(Q_g, i_fd_vals_G2)"
   ]
  },
  {
   "cell_type": "code",
   "execution_count": 6,
   "metadata": {},
   "outputs": [],
   "source": [
    "S_nom = 103 # MVA \n",
    "Ia_nom = 5606.1 # A \n",
    "V_nom = 11 # kV \n",
    "\n",
    "P_vals =    np.array([0.9, 0.675, 0.45, 0.225, 1.0, 0.75, 0.5, 0.25])\n",
    "Q_vals =    np.array([0.436, 0.327, 0.218, 0.109, 0.0, 0.0, 0.0, 0.0] )\n",
    "Ia_vals =   np.array([5406.1, 4054.6, 2703.0, 1351.5, 5406.1, 4054.6, 2703.0, 1351.5])\n",
    "I_fd_vals = np.array([1065, 936.12, 816.18, 711.38, 873.17, 776.61, 698.7, 646.84])\n",
    "\n",
    "# Loss values: All in kW \n",
    "P_f =       np.array([173.65, 133.66, 101.61, 77.19, 116.29, 91.99, 74.48, 63.81])\n",
    "P_ex =      np.array([15.88, 13.02, 10.72, 8.87, 11.65, 9.92, 8.68, 7.92])\n",
    "P_br =      np.array([2.13, 1.87, 1.63, 1.42, 1.75, 1.55, 1.40, 1.29])\n",
    "P_a =       np.array([187.46, 105.45, 46.86, 11.72, 187.46, 105.45, 46.86, 11.72])\n",
    "P_s =       np.array([89.16, 50.15, 22.30, 5.57, 89.16, 50.15, 22.30, 5.57])\n",
    "P_c =       np.array([211.92]*8 )\n",
    "P_be =      np.array([240.90]*8)\n",
    "P_wf =      np.array([172.92]*8)\n",
    "\n",
    "P_stator_vals = P_a + P_s \n",
    "P_rotor_vals = P_f + P_ex + P_br \n",
    "P_const_vals = P_c + P_be + P_wf\n",
    "\n",
    "P_stator_G1 = [] \n",
    "P_stator_G2 = [] \n",
    "P_rotor_G1  = [] \n",
    "P_rotor_G2  = [] \n",
    "P_const_G1  = [] \n",
    "P_const_G2  = [] "
   ]
  },
  {
   "cell_type": "code",
   "execution_count": 7,
   "metadata": {},
   "outputs": [
    {
     "name": "stdout",
     "output_type": "stream",
     "text": [
      "Summary for G1\n",
      "Error in P_stator [kW]:  3.7159999999999727\n",
      "Error in P_rotor [kW]:  0.1220000000000141\n",
      "\n",
      "Summary for G2\n",
      "Error in P_stator [kW]:  3.7159999999999727\n",
      "Error in P_rotor [kW]:  -0.018000000000000682\n"
     ]
    }
   ],
   "source": [
    "for P, Q in zip(P_vals, Q_vals): \n",
    "    n, P_st, P_rt, P_cn = G1.calc_losses_pu(P, Q, 1.0)\n",
    "    P_stator_G1.append(P_st*S_nom*1000)\n",
    "    P_rotor_G1.append(P_rt*S_nom*1000)\n",
    "    P_const_G1.append(P_cn*S_nom*1000)\n",
    "    n, P_st, P_rt, P_cn = G2.calc_losses_pu(P, Q, 1.0) \n",
    "    P_stator_G2.append(P_st*S_nom*1000)\n",
    "    P_rotor_G2.append(P_rt*S_nom*1000)\n",
    "    P_const_G2.append(P_cn*S_nom*1000)\n",
    "\n",
    "P_stator_G1 = np.array(P_stator_G1).round(3)\n",
    "P_stator_G2 = np.array(P_stator_G2).round(3)\n",
    "P_rotor_G1  = np.array(P_rotor_G1 ).round(3)\n",
    "P_rotor_G2  = np.array(P_rotor_G2 ).round(3)\n",
    "P_const_G1  = np.array(P_const_G1 ).round(3)\n",
    "P_const_G2  = np.array(P_const_G2 ).round(3)\n",
    "  \n",
    "print(\"Summary for G1\")\n",
    "print(f\"Error in P_stator [kW]: \", sum(P_stator_vals - P_stator_G1) )\n",
    "print(\"Error in P_rotor [kW]: \", sum(P_rotor_vals - P_rotor_G1))\n",
    "print(\"\")\n",
    "print(\"Summary for G2\")\n",
    "print(f\"Error in P_stator [kW]: \", sum(P_stator_vals - P_stator_G2 ))\n",
    "print(\"Error in P_rotor [kW]: \", sum(P_rotor_vals - P_rotor_G2))"
   ]
  },
  {
   "cell_type": "code",
   "execution_count": 8,
   "metadata": {},
   "outputs": [
    {
     "data": {
      "text/plain": [
       "1.9613984432993343"
      ]
     },
     "execution_count": 8,
     "metadata": {},
     "output_type": "execute_result"
    }
   ],
   "source": [
    "delta, X_d, X_q, i_d, i_q, i_fd = G2.calculate(0.9, 0.436, 1.0)\n",
    "i_fd"
   ]
  },
  {
   "cell_type": "code",
   "execution_count": null,
   "metadata": {},
   "outputs": [],
   "source": []
  }
 ],
 "metadata": {
  "kernelspec": {
   "display_name": "Python 3.10.4 ('article_c_v0')",
   "language": "python",
   "name": "python3"
  },
  "language_info": {
   "codemirror_mode": {
    "name": "ipython",
    "version": 3
   },
   "file_extension": ".py",
   "mimetype": "text/x-python",
   "name": "python",
   "nbconvert_exporter": "python",
   "pygments_lexer": "ipython3",
   "version": "3.10.4"
  },
  "orig_nbformat": 4,
  "vscode": {
   "interpreter": {
    "hash": "19ffa3ea98af570537c830a80d780dbc546c56b5175657cac1e8ccbd03b70fd3"
   }
  }
 },
 "nbformat": 4,
 "nbformat_minor": 2
}
