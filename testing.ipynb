{
 "cells": [
  {
   "cell_type": "markdown",
   "metadata": {},
   "source": [
    "# Basic testing of the library"
   ]
  },
  {
   "cell_type": "code",
   "execution_count": 1,
   "metadata": {},
   "outputs": [],
   "source": [
    "from SynGenLoss.Model1 import AabjoraModel \n",
    "import numpy as np"
   ]
  },
  {
   "cell_type": "code",
   "execution_count": 2,
   "metadata": {},
   "outputs": [],
   "source": [
    "G1 = AabjoraModel() "
   ]
  },
  {
   "cell_type": "code",
   "execution_count": 3,
   "metadata": {},
   "outputs": [
    {
     "name": "stdout",
     "output_type": "stream",
     "text": [
      "Ia = 5406.00 A, If = 1064.93 A, delta = 0.44 rad\n"
     ]
    }
   ],
   "source": [
    "P = 0.9 \n",
    "Q = np.tan(np.arccos(P))*P\n",
    "Ia, If, delta = G1.calc_currents(0.9, Q, 1.0)\n",
    "print(f\"Ia = {(Ia*5406):.2f} A, If = {(If*525.15):.2f} A, delta = {delta:.2f} rad\")"
   ]
  },
  {
   "cell_type": "code",
   "execution_count": 4,
   "metadata": {},
   "outputs": [
    {
     "name": "stdout",
     "output_type": "stream",
     "text": [
      "Deviations: n = 0.00 %, P_loss = -1.02\n"
     ]
    }
   ],
   "source": [
    "n_real = 0.98834 \n",
    "P_loss_real = 1094.02 #kW\n",
    "n, P_st, P_rot, P_con = G1.calc_losses_pu(P, Q, 1.0)\n",
    "P_loss = P_st + P_rot + P_con \n",
    "print(f\"Deviations: n = {(n*100-n_real*100):.2f} %, P_loss = {(P_loss*103000-P_loss_real):.2f}\")"
   ]
  },
  {
   "cell_type": "code",
   "execution_count": 5,
   "metadata": {},
   "outputs": [
    {
     "data": {
      "text/plain": [
       "1092.9967400634462"
      ]
     },
     "execution_count": 5,
     "metadata": {},
     "output_type": "execute_result"
    }
   ],
   "source": [
    "P_loss*103000"
   ]
  },
  {
   "cell_type": "code",
   "execution_count": 6,
   "metadata": {},
   "outputs": [
    {
     "data": {
      "text/plain": [
       "191.66"
      ]
     },
     "execution_count": 6,
     "metadata": {},
     "output_type": "execute_result"
    }
   ],
   "source": [
    "173.65 + 15.88 + 2.13 "
   ]
  },
  {
   "cell_type": "code",
   "execution_count": null,
   "metadata": {},
   "outputs": [],
   "source": []
  },
  {
   "cell_type": "code",
   "execution_count": null,
   "metadata": {},
   "outputs": [],
   "source": []
  }
 ],
 "metadata": {
  "kernelspec": {
   "display_name": "Python 3.8.8 ('base')",
   "language": "python",
   "name": "python3"
  },
  "language_info": {
   "codemirror_mode": {
    "name": "ipython",
    "version": 3
   },
   "file_extension": ".py",
   "mimetype": "text/x-python",
   "name": "python",
   "nbconvert_exporter": "python",
   "pygments_lexer": "ipython3",
   "version": "3.8.8"
  },
  "orig_nbformat": 4,
  "vscode": {
   "interpreter": {
    "hash": "f58ff98765a12baaf9db7af8ec90982f17696552882317702c605e1548c26a37"
   }
  }
 },
 "nbformat": 4,
 "nbformat_minor": 2
}
